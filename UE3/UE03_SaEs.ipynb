{
  "nbformat": 4,
  "nbformat_minor": 0,
  "metadata": {
    "colab": {
      "provenance": []
    },
    "kernelspec": {
      "name": "python3",
      "display_name": "Python 3"
    },
    "language_info": {
      "name": "python"
    }
  },
  "cells": [
    {
      "cell_type": "markdown",
      "source": [
        "#UE03 - SPARQL Query\n",
        "\n",
        "Please complete the 10 tasks in the `2. SPARQL` sheet of `SemAI.jar` first, and then transfer the task descriptions and your solutiosn in executable form to this notebook."
      ],
      "metadata": {
        "id": "PUyG1F1sVDEW"
      }
    },
    {
      "cell_type": "markdown",
      "source": [
        "## Preparation\n",
        "\n",
        "Reuse imports and functions from https://github.com/jku-win-dke/SemAI/blob/main/V02_SPARQL.ipynb and load the solar system graph. Query the solar system graph to check that everything works fine. "
      ],
      "metadata": {
        "id": "Ky2HcjBHxqLp"
      }
    },
    {
      "cell_type": "code",
      "execution_count": null,
      "metadata": {
        "id": "RgRHkpEsLmx_"
      },
      "outputs": [],
      "source": [
        "# Install required packages\n",
        "!pip install -q rdflib\n",
        "\n",
        "# Imports\n",
        "import pandas as pd\n",
        "from rdflib import Graph, Literal, RDF, URIRef, BNode, Namespace\n",
        "from rdflib.namespace import FOAF , XSD , RDFS, NamespaceManager \n",
        "\n",
        "\n",
        "\n",
        "# Convenient Functions\n",
        "def sparql_select(graph,query,use_prefixes=True):\n",
        "  results = graph.query(query)          # execute the query against the graph, resulting in a rdflib.plugins.sparql.processor.SPARQLResult\n",
        "  rows = []                             # a list of dictionaries, as intermediate format to construct the pandas DataFrame\n",
        "  for result in results:      # iterate over the result set of the query, a result is an instance of rdflib.query.ResultRow\n",
        "    row = {}                            #     create a dictionary to hold a single row of the result\n",
        "    for var in results.vars:          #     iterate over the variables of the SPARQLResult to add a dictionary entry for each variable\n",
        "      if (isinstance(result[var],URIRef) and use_prefixes):\n",
        "        row[var] = result[var].n3(graph.namespace_manager)   # use namespace prefixes to shorten URIs\n",
        "      else:\n",
        "        row[var] = result[var]\n",
        "                      \n",
        "    rows.append(row)                    #     add the dictionary (row) to the list \n",
        "  return pd.DataFrame(rows,columns=results.vars)        \n",
        "                                      # return a pandas DataFrame constructed from the list of dictionaries, with the variables from the result set as columns      \n",
        "\n",
        "def sparql_construct(graph, query):\n",
        "  result_graph = Graph(namespace_manager = g.namespace_manager)  # create a Graph object that reuses the namespace prefixes of the original graph\n",
        "  result_graph += graph.query(query)                             # execute the construct query against the original graph and add the resulting graph to the new one\n",
        "  return result_graph\n",
        "\n",
        "def sparql_ask(graph, query):\n",
        "  return bool(graph.query(query))      # an ASK query has a boolean result, which should be returned as such\n",
        "\n",
        "# Load solar system graph\n",
        "g = Graph()\n",
        "g.parse(\"https://raw.githubusercontent.com/jku-win-dke/SemAI/main/data/solarsystem.ttl\",format=\"turtle\")\n",
        "\n",
        "# Query solar system graph (to check that everything works fine)\n",
        "df = sparql_select(g,\"\"\"\n",
        "  SELECT ?planet ?apoapsis ?apoapsis_uom\n",
        "  WHERE { \n",
        "    ?planet rdf:type dbo:Planet . \n",
        "    OPTIONAL { ?planet v:apoapsis [rdf:value ?apoapsis ; v:uom ?apoapsis_uom ].  }\n",
        "  }\n",
        "\"\"\")\n",
        "df"
      ]
    },
    {
      "cell_type": "markdown",
      "source": [
        "\n",
        "## Task 1 (1 pt)\n",
        "\n",
        "Geben Sie alle Zwergplaneten (Instanzen der Klasse dbo:DwarfPlanet) aus und falls vorhanden deren genaue Entsprechung (skos:exactMatch). Ordnen Sie das Ergebnis aufsteigend nach den URIs der Zwergplaneten. "
      ],
      "metadata": {
        "id": "yRBr_COBQPQE"
      }
    },
    {
      "cell_type": "code",
      "source": [
        "# TODO: include and execute the query, display the result\n",
        "\n",
        "df = sparql_select(g,\"\"\"\n",
        "SELECT ?d ?match\n",
        "WHERE { \n",
        "?d rdf:type dbo:DwarfPlanet .\n",
        "OPTIONAL { ?d skos:exactMatch ?match }\n",
        "}\n",
        "ORDER BY ?d\n",
        "\"\"\")\n",
        "df\n"
      ],
      "metadata": {
        "id": "0PE_ll0-MCdk"
      },
      "execution_count": null,
      "outputs": []
    },
    {
      "cell_type": "markdown",
      "source": [
        "## Task 2 (1 pt)\n",
        "\n",
        "Ermitteln Sie alle Sterne, ihr exactMatch, und ihre Masse (geben Sie den Wert und die Maßeinheit aus). Ordnen Sie das Ergebnis nach der URI der Sterne "
      ],
      "metadata": {
        "id": "YVzpX0ExF6wO"
      }
    },
    {
      "cell_type": "code",
      "source": [
        "# TODO: include and execute the query, display the result\n",
        "\n",
        "df = sparql_select(g,\"\"\"\n",
        "SELECT ?star ?match ?massVal ?massUoM\n",
        "WHERE { \n",
        "  ?star rdf:type dbo:Star ;\n",
        "        skos:exactMatch ?match ;\n",
        "        v:mass ?mass .\n",
        "  ?mass rdf:value ?massVal ;\n",
        "        v:uom  ?massUoM .\n",
        "}\n",
        "ORDER BY ?star\n",
        "\"\"\")\n",
        "df"
      ],
      "metadata": {
        "id": "j82TeG59F6wP"
      },
      "execution_count": null,
      "outputs": []
    },
    {
      "cell_type": "markdown",
      "source": [
        "## Task 3 (1 pt)\n",
        "\n",
        "Die Planeten unseres Sonnensystems und ihre jeweilige Anzahl an Monden. Unterscheiden Sie die im RDF-Graph beschriebenen Monde und die im RDF-Graph erfasste Anzahl von Monden. Sortieren Sie nach den Planeten. "
      ],
      "metadata": {
        "id": "3i2B2tLRF7T3"
      }
    },
    {
      "cell_type": "code",
      "source": [
        "# TODO: include and execute the query, display the result\n",
        "df = sparql_select(g,\"\"\"\n",
        "SELECT ?planet ?assertedNo (COUNT(?moon) as ?noOfDescribedMoons)\n",
        "WHERE { \n",
        "  ?planet rdf:type dbo:Planet .\n",
        "  OPTIONAL { ?planet v:nrOfMoons ?assertedNo }\n",
        "  OPTIONAL { ?moon v:orbits ?planet }\n",
        "}\n",
        "GROUP BY ?planet ?assertedNo\n",
        "ORDER BY ?planet\t\n",
        "\"\"\")\n",
        "df"
      ],
      "metadata": {
        "id": "uZVUV577F7T4"
      },
      "execution_count": null,
      "outputs": []
    },
    {
      "cell_type": "markdown",
      "source": [
        "## Task 4 (1 pt)\n",
        "\n",
        "Ermitteln sie für die Planeten in unserem Sonnensystem die durchschnittliche Anzahl an Monden (die auch im RDF-Graph beschrieben sind) pro Planet. "
      ],
      "metadata": {
        "id": "OEx2sM7nF7n2"
      }
    },
    {
      "cell_type": "code",
      "source": [
        "# TODO: include and execute the query, display the result\n",
        "df = sparql_select(g,\"\"\"\n",
        "SELECT (COUNT(?moon)/?planets as ?avgNoOfDescribedMoons)\n",
        "WHERE {\n",
        "  ?moon rdf:type dbo:Satellite .\n",
        "  {\n",
        "     SELECT (COUNT(?planet) as ?planets)\n",
        "     WHERE {?planet rdf:type dbo:Planet .}\n",
        "  }\n",
        "}\n",
        "GROUP BY ?planets\n",
        "\"\"\")\n",
        "df\n"
      ],
      "metadata": {
        "id": "1kk9dlZAF7n3"
      },
      "execution_count": null,
      "outputs": []
    },
    {
      "cell_type": "markdown",
      "source": [
        "## Task 5 (1 pt)\n",
        "\n",
        "Geben Sie die im RDF-Graph verwendeten Klassen und ihre Anzahl an Instanzen aus. Geben Sie nur Klassen mit mindestens 2 Instanzen aus. Ordnen Sie die Ausgabe nach der URI der Klassen. "
      ],
      "metadata": {
        "id": "1nGGo4_XF70X"
      }
    },
    {
      "cell_type": "code",
      "source": [
        "# TODO: include and execute the query, display the result\n",
        "\n",
        "df = sparql_select(g,\"\"\"\n",
        "SELECT ?class (COUNT(?instance) AS ?noOfInstances)\n",
        "WHERE {\n",
        "  ?instance rdf:type ?class .\n",
        "}\n",
        "GROUP BY ?class\n",
        "HAVING (COUNT(?instance) > 1)\n",
        "ORDER BY ?class\n",
        "\"\"\")\n",
        "df"
      ],
      "metadata": {
        "id": "AxB2DcY-F70Y"
      },
      "execution_count": null,
      "outputs": []
    },
    {
      "cell_type": "markdown",
      "source": [
        "## Task 6 (1 pt)\n",
        "\n",
        "Geben Sie die im RDF-Graph verwendeten Properties und ihre Häufigkeit je Klasse aus. Gezählt werden sollen die Instanzen der Klasse, die die Property ausprägen. Geben Sie nur Properties zu Klassen aus, die von mindestens 7 Instanzen dieser Klasse ausgeprägt werden. Ordnen Sie die Ausgabe zuerst nach der Klasse und dann nach der Property. "
      ],
      "metadata": {
        "id": "nB_ZOGV9F7_v"
      }
    },
    {
      "cell_type": "code",
      "source": [
        "# TODO: include and execute the query, display the result\n",
        "\n",
        "df = sparql_select(g,\"\"\"\n",
        "SELECT ?class ?prop (COUNT(DISTINCT ?s) AS ?noOfInstances)\n",
        "WHERE {\n",
        "  ?s rdf:type ?class .\n",
        "  ?s ?prop ?o .\n",
        "}\n",
        "GROUP BY ?class ?prop\n",
        "HAVING (COUNT(DISTINCT ?s) >= 7)\n",
        "ORDER BY ?class ?prop\n",
        "\"\"\")\n",
        "df"
      ],
      "metadata": {
        "id": "x4uW2B4dF7_w"
      },
      "execution_count": null,
      "outputs": []
    },
    {
      "cell_type": "markdown",
      "source": [
        "## Task 7 (1 pt)\n",
        "\n",
        "Ermitteln Sie alle Sterne, sowie alle Monde. Zu jedem Mond ermitteln Sie auch den Planet, den dieser Mond umrundet. Ordnen Sie die Ausgabe nach der URI der Sterne und Monde. "
      ],
      "metadata": {
        "id": "nXPqBOZjF8LH"
      }
    },
    {
      "cell_type": "code",
      "source": [
        "# TODO: include and execute the query, display the result\n",
        "\n",
        "df = sparql_select(g,\"\"\"\n",
        "SELECT ?x ?y\n",
        "WHERE {\n",
        "  { ?x rdf:type dbo:Star }\n",
        "  UNION\n",
        "  { ?x rdf:type dbo:Satellite \n",
        "   OPTIONAL { ?x v:orbits ?y }\n",
        "  }\n",
        "}\n",
        "ORDER BY ?x\n",
        "\"\"\")\n",
        "df"
      ],
      "metadata": {
        "id": "rDqaQlDhF8LI"
      },
      "execution_count": null,
      "outputs": []
    },
    {
      "cell_type": "markdown",
      "source": [
        "## Task 8 (1 pt)\n",
        "\n",
        "Erzeugen sie mittels einer Construct-Query den angezeigten RDF-GRAPH (Expected Result). Reihenfolge ist unerheblich."
      ],
      "metadata": {
        "id": "Us6tYyDHF8V_"
      }
    },
    {
      "cell_type": "code",
      "source": [
        "# TODO: include and execute the query, display the result\n",
        "\n",
        "\n",
        "df = sparql_construct(g,\"\"\"\n",
        "CONSTRUCT {\n",
        "  ?x rdf:type v:Himmelskoerper .\n",
        "  ?x v:wirdUmrundetVon  ?y.\n",
        "  ?z v:wirdUmrundetVon  ?y.\n",
        "}\n",
        "WHERE {\n",
        "  {\n",
        "    ?z skos:exactMatch dbr:Sun.\n",
        "    ?y rdf:type dbo:Planet.\n",
        "    ?y v:orbits ?z.\n",
        "  }\n",
        "  UNION\n",
        "  { ?x rdf:type dbo:Satellite }\n",
        "  UNION\n",
        "  { ?x rdf:type dbo:Planet.\n",
        "    OPTIONAL { ?y v:orbits ?x .}\n",
        "  }\n",
        "}\n",
        "\"\"\")\n",
        "\n",
        "print(df.serialize(format='turtle'))"
      ],
      "metadata": {
        "id": "Mij855L3F8V_"
      },
      "execution_count": null,
      "outputs": []
    },
    {
      "cell_type": "markdown",
      "source": [
        "## Task 9 (1 pt)\n",
        "\n",
        "Gibt es einen Stern im RDF-Graph, der massereicher als die Sonne ist."
      ],
      "metadata": {
        "id": "IPLpuY8iF8gv"
      }
    },
    {
      "cell_type": "code",
      "source": [
        "# TODO: include and execute the query, display the result\n",
        "\n",
        "df = sparql_ask(g,\"\"\"\n",
        "ASK {\n",
        "?star skos:exactMatch dbr:Sun;\n",
        "      v:mass ?mass.\n",
        "?mass rdf:value ?massSun.\n",
        "?star rdf:type dbo:Star ;\n",
        "      v:mass ?mass2.\n",
        "?mass2 rdf:value ?massStar.\n",
        "FILTER(?massStar > (?massSun / 1.98847e+30))\n",
        "}\n",
        "\"\"\")\n",
        "df"
      ],
      "metadata": {
        "id": "SaYpWyW0F8gw"
      },
      "execution_count": null,
      "outputs": []
    },
    {
      "cell_type": "markdown",
      "source": [
        "## Task 10 (1 pt)\n",
        "\n",
        "Geben Sie eine Beschreibung der Resourcen aus, die einen Durchmesser zwischen 20.000 km und 30.000 km haben. "
      ],
      "metadata": {
        "id": "vszUEtolF8qv"
      }
    },
    {
      "cell_type": "code",
      "source": [
        "# TODO: include and execute the query, display the result\n",
        "\n",
        "df = sparql_construct(g,\"\"\"\n",
        "DESCRIBE ?s\n",
        "WHERE \n",
        "{\n",
        "?s ?p ?o .\n",
        "?s v:radius ?radius .\n",
        "?radius rdf:value ?radiusKM .\n",
        "FILTER(?radiusKM >= 20000 && ?radiusKM <= 30000)\n",
        "}\n",
        "\"\"\")\n",
        "\n",
        "print(df.serialize(format='turtle'))"
      ],
      "metadata": {
        "id": "t8gZYqQNF8qv"
      },
      "execution_count": null,
      "outputs": []
    }
  ]
}