{
  "nbformat": 4,
  "nbformat_minor": 0,
  "metadata": {
    "colab": {
      "provenance": []
    },
    "kernelspec": {
      "name": "python3",
      "display_name": "Python 3"
    },
    "language_info": {
      "name": "python"
    }
  },
  "cells": [
    {
      "cell_type": "markdown",
      "source": [
        "Course Instructor: Bernd Neumayr, JKU\n",
        "\n",
        "# UE04- SPARQL Updata and RDF Datasets\n",
        "\n",
        "Complete the **8 tasks (1 point per task)** in the `3. SPARQL Update` sheet of `SemAI.jar` first and then transfer them to this notebook.\n",
        "\n",
        "For each task include:\n",
        "- A headline including the task number\n",
        "- The task description \n",
        "- Your solution in executable form: your solutions for SemAI.jar will make use of the default grap. In this notebook you have to transform your solutions according to the workaround exemplified in V04_SPARQL_Update.ipynb\n",
        "- After executing the update request, print a serizalization of the dataset in TriG format.  \n",
        "\n",
        "**Task 9 (2 points)**  is to develop a nice visualization of RDF datasets using `visualize_graph_pyvis` from UE02 as a starting point. The requirements are as follows:\n",
        "- Each named graph must be represented as an independent graph. This means, for example, that :Jane in :JanesGraph is a different node than :Jane in :BillsGraph. There are no edges between nodes in different graphs.\n",
        "- It is not strictly necessary to draw a box around each named graph, as seen in the slides. The different named graphs should simply be visually distinguishable and not overlap.\n",
        "- If not all nodes within a named graph are connected, make sure in the visualization that the named graph still forms a coherent visual unit in some way."
      ],
      "metadata": {
        "id": "HnpijZy2D1Hd"
      }
    },
    {
      "cell_type": "code",
      "source": [
        "# Install required packages\n",
        "!pip install -q rdflib pydot networkx pyvis     # comment to avoid re-install with every re-run\n",
        "     "
      ],
      "metadata": {
        "id": "2tNuQuA_Yice"
      },
      "execution_count": null,
      "outputs": []
    },
    {
      "cell_type": "code",
      "source": [
        "# Imports\n",
        "import pandas as pd\n",
        "import rdflib\n",
        "from rdflib import Graph, Literal, RDF, URIRef, BNode, Namespace"
      ],
      "metadata": {
        "id": "lyTaToPXYlr_"
      },
      "execution_count": null,
      "outputs": []
    },
    {
      "cell_type": "markdown",
      "source": [
        "# Task 1 ( 1 pt)\n",
        "\n",
        "Sie beginnen mit einem leeren Dataset. Fügen Sie in den Default Graph Statements ein, die sagen, dass :Peter der Autor von :G1 ist, und :Mary Autor von :G2."
      ],
      "metadata": {
        "id": "au-SpMgDXQgc"
      }
    },
    {
      "cell_type": "code",
      "source": [
        "ds = rdflib.Dataset()\n",
        "\n",
        "ds.parse(format=\"trig\", data=\"\"\"\n",
        "@prefix :    <http://example.org/> .\n",
        "@prefix rdf: <http://www.w3.org/1999/02/22-rdf-syntax-ns#>  .\n",
        "\"\"\")\n",
        "\n",
        "ds.update(\"\"\"\n",
        "prefix rdf: <http://www.w3.org/1999/02/22-rdf-syntax-ns#>\n",
        "prefix :    <http://example.org/>\n",
        "\n",
        "INSERT DATA { GRAPH <urn:x-rdflib:default>  {\n",
        ":G1  :author  :Mary .\n",
        ":G2  :author  :Peter .\n",
        "}}\n",
        "\"\"\")\n",
        "\n",
        "print(ds.serialize(format=\"trig\"))\n"
      ],
      "metadata": {
        "id": "AfIev8rzXb6k"
      },
      "execution_count": null,
      "outputs": []
    },
    {
      "cell_type": "markdown",
      "source": [
        "# Task 2 ( 1 pt)\n",
        "\n",
        "Schreiben Sie { :Mary :knows :Peter, :John, :Mary. } in den Named Graph :G1 und { :Peter :knows :Mary. :John :knows :Mary. } in den Named Graph :G2.\n",
        "\n"
      ],
      "metadata": {
        "id": "dHLwRt3DdbBJ"
      }
    },
    {
      "cell_type": "code",
      "source": [
        "ds.update(\"\"\"\n",
        "prefix rdf: <http://www.w3.org/1999/02/22-rdf-syntax-ns#>\n",
        "prefix :    <http://example.org/>\n",
        "\n",
        "INSERT DATA {\n",
        "GRAPH :G1{\n",
        " :Mary :knows :Peter, :John, :Mary. \n",
        " }\n",
        "\n",
        "GRAPH :G2{\n",
        " :Peter :knows :Mary. :John :knows :Mary.\n",
        " }\n",
        "\n",
        "}\n",
        "\"\"\")\n",
        "\n",
        "print(ds.serialize(format=\"trig\"))"
      ],
      "metadata": {
        "id": "kIFhdG1QdhdX"
      },
      "execution_count": null,
      "outputs": []
    },
    {
      "cell_type": "markdown",
      "source": [
        "# Task 3 ( 1 pt)\n",
        "\n",
        "Fragen Sie mittels INSERT-WHERE die :knows-Beziehungen aus :G2 ab und fügen deren inverse :knownBy-Beziehungen in den Default-Graph ein.\n",
        "Ihr Update Request darf nicht enthalten: [Mary, Peter, John]\n"
      ],
      "metadata": {
        "id": "DdgZg8FogCiZ"
      }
    },
    {
      "cell_type": "code",
      "source": [
        "ds.update(\"\"\"\n",
        "prefix rdf: <http://www.w3.org/1999/02/22-rdf-syntax-ns#>\n",
        "prefix :    <http://example.org/>\n",
        "\n",
        "INSERT {GRAPH <urn:x-rdflib:default> {?o :knownBy ?s}}\n",
        "WHERE\n",
        "{\n",
        "GRAPH :G2\n",
        "{?s :knows ?o}\n",
        "}\n",
        "\n",
        "\"\"\")\n",
        "\n",
        "print(ds.serialize(format=\"trig\"))"
      ],
      "metadata": {
        "id": "sx4ZU82lgI23"
      },
      "execution_count": null,
      "outputs": []
    },
    {
      "cell_type": "markdown",
      "source": [
        "# Task 4 ( 1 pt)\n",
        "\n",
        "Löschen Sie mittels DELETE-WHERE alle :knownBy-Beziehungen aus dem Default-Graph.\n",
        "Ihr Update Request darf nicht enthalten: [Mary, Peter, John]"
      ],
      "metadata": {
        "id": "raM-bsjFhWyU"
      }
    },
    {
      "cell_type": "code",
      "source": [
        "ds.update(\"\"\"\n",
        "prefix rdf: <http://www.w3.org/1999/02/22-rdf-syntax-ns#>\n",
        "prefix :    <http://example.org/>\n",
        "\n",
        "DELETE WHERE{ GRAPH <urn:x-rdflib:default>  {?s :knownBy ?o}}\n",
        "\"\"\")\n",
        "\n",
        "print(ds.serialize(format=\"trig\"))"
      ],
      "metadata": {
        "id": "Rinp_WvcheBk"
      },
      "execution_count": null,
      "outputs": []
    },
    {
      "cell_type": "markdown",
      "source": [
        "# Task 5 ( 1 pt )\n",
        "\n",
        "Ermitteln Sie mittels INSERT-WHERE zu jedem Named-Graph dessen Anzahl an Statements mit der Property :knows und schreiben Sie diese in den Default Graph.\n",
        "Ihr Update Request darf nicht enthalten: [G1, G2]\n",
        "\n"
      ],
      "metadata": {
        "id": "C0OJ4VpYhs8a"
      }
    },
    {
      "cell_type": "code",
      "source": [
        "ds.update(\"\"\"\n",
        "prefix rdf: <http://www.w3.org/1999/02/22-rdf-syntax-ns#>\n",
        "prefix :    <http://example.org/>\n",
        "\n",
        "INSERT { GRAPH <urn:x-rdflib:default> {?g :knowsCount ?nr }}\n",
        "WHERE {\n",
        " SELECT ?g (COUNT(*) as ?nr)\n",
        " WHERE {\n",
        " GRAPH ?g {?s :knows ?o }\n",
        " } GROUP BY ?g\n",
        "}\n",
        "\"\"\")\n",
        "\n",
        "print(ds.serialize(format=\"trig\"))"
      ],
      "metadata": {
        "id": "dEsVlZGShzj-"
      },
      "execution_count": null,
      "outputs": []
    },
    {
      "cell_type": "markdown",
      "source": [
        "# Task 6 ( 1 pt )\n",
        "\n",
        "Ermitteln Sie mittels INSERT-WHERE die Anzahl an Named Graphs und schreiben Sie sie in den Default Graph.\n",
        "Ihr Update Request darf nicht enthalten: [2]\n",
        "\n",
        "\n"
      ],
      "metadata": {
        "id": "xenRz0CVik8F"
      }
    },
    {
      "cell_type": "code",
      "source": [
        "ds.update(\"\"\"\n",
        "prefix rdf: <http://www.w3.org/1999/02/22-rdf-syntax-ns#>\n",
        "prefix :    <http://example.org/>\n",
        "\n",
        "INSERT { GRAPH <urn:x-rdflib:default> {:ds :graphCount ?nr}}\n",
        "WHERE {\n",
        "        SELECT (COUNT (DISTINCT ?g) as ?nr) \n",
        "        WHERE {\n",
        "        GRAPH ?g{?s ?p ?o}\n",
        "        } \n",
        "}\n",
        "\"\"\")\n",
        "\n",
        "print(ds.serialize(format=\"trig\"))"
      ],
      "metadata": {
        "id": "yV1A9cFsit_0"
      },
      "execution_count": null,
      "outputs": []
    },
    {
      "cell_type": "markdown",
      "source": [
        "# Task 7 ( 1pt )\n",
        "Verschieben Sie mittels DELETE-INSERT-WHERE alle Metadaten zu Named Graphs (also Statements die einen Named Graph als Subjekt haben) in den entsprechenden Named Graph.\n",
        "Ihr Update Request darf nicht enthalten: [G1, G2]"
      ],
      "metadata": {
        "id": "p9HTLR9vkX85"
      }
    },
    {
      "cell_type": "code",
      "source": [
        "ds.update(\"\"\"\n",
        "prefix rdf: <http://www.w3.org/1999/02/22-rdf-syntax-ns#>\n",
        "prefix :    <http://example.org/>\n",
        "\n",
        "DELETE {?s ?p ?o}\n",
        "INSERT {\n",
        "  GRAPH ?s {\n",
        "    ?s ?p ?o\n",
        "  }\n",
        "}\n",
        "WHERE {\n",
        "  ?s ?p ?o\n",
        "  FILTER(?s != :ds)\n",
        "}\n",
        "\"\"\")\n",
        "\n",
        "print(ds.serialize(format=\"trig\"))"
      ],
      "metadata": {
        "id": "XpoLcPJ5kca1"
      },
      "execution_count": null,
      "outputs": []
    },
    {
      "cell_type": "markdown",
      "source": [
        "# Task 8 ( 1 pt )\n",
        "\n",
        "Schreiben Sie in jeden Named Graph ein Statement, dass der Autor des jeweiligen Named Graphs die :Susi kennt und aktualisieren Sie mit dem selben UpdateRequest den knowsCount.\n",
        "Ihr Update Request darf nicht enthalten: [Peter, Mary]"
      ],
      "metadata": {
        "id": "VMFvtur2kxF-"
      }
    },
    {
      "cell_type": "code",
      "source": [
        "ds.update(\"\"\"\n",
        "prefix rdf: <http://www.w3.org/1999/02/22-rdf-syntax-ns#>\n",
        "prefix :    <http://example.org/>\n",
        "\n",
        "DELETE {GRAPH ?g {?g :knowsCount ?c}}\n",
        "INSERT {\n",
        "  GRAPH ?g {\n",
        "    ?o :knows :Susi.\n",
        "    ?g :knowsCount ?n .\n",
        "  }\n",
        "}\n",
        "WHERE {\n",
        "  GRAPH ?g { \n",
        "  ?s :author ?o.\n",
        "  ?g :knowsCount ?c .\n",
        "  BIND(?c + 1 AS ?n)\n",
        "  }\n",
        "}\n",
        "\"\"\")\n",
        "\n",
        "print(ds.serialize(format=\"trig\"))"
      ],
      "metadata": {
        "id": "K3xIWAwKk1lE"
      },
      "execution_count": null,
      "outputs": []
    }
  ]
}