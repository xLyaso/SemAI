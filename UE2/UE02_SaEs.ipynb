{
  "cells": [
    {
      "cell_type": "markdown",
      "metadata": {
        "id": "BS4vo37YWsYf"
      },
      "source": [
        "# UE02 - RDF and RDF Schema\n",
        "\n",
        "Before you start with this notebook, complete the eight tasks in the `1. RDF` sheet of `SemAI.jar`. You will then make use of your solutions in this notebook. \n",
        "\n",
        "## Task 0: Preparation\n",
        "\n",
        "Preparation (Installs and Imports). \n",
        "\n",
        "\n"
      ]
    },
    {
      "cell_type": "code",
      "source": [
        "!pip install -q rdflib \n",
        "!pip install -q pydot\n",
        "!pip install -q owlrl\n",
        "\n",
        "!pip install networkx pyvis\n",
        "\n",
        "import rdflib\n",
        "from rdflib import Graph, Literal, RDF, URIRef, BNode, Namespace, Dataset\n",
        "import networkx as nx\n",
        "from pyvis.network import Network\n",
        "import requests\n",
        "from IPython.display import display, HTML, Image\n",
        "import os\n",
        "import pydot\n",
        "import owlrl\n",
        "from rdflib.namespace import FOAF , XSD , RDFS "
      ],
      "metadata": {
        "id": "UNTabDt9SLuw"
      },
      "execution_count": null,
      "outputs": []
    },
    {
      "cell_type": "markdown",
      "source": [
        "## Task 1:  Improve interactive RDF graph visualization (1 pt)\n",
        "\n",
        "Improve function `visualize_graph_pyvis` (from `V01_rdf.ipynb`) as follows:\n",
        "- an optional `base` parameter\n",
        "- abbreviate the labels of nodes and edges in the same way as in `visualize_graph`. \n",
        "- make sure that blank node IDs are not shown in the visualization. \n",
        "\n",
        "Optional features: \n",
        "- use different graphical forms for literals and URIs\n",
        "- (add further improvements as you like)\n",
        "\n",
        "Test the function with `rdf_str` and with your solution to task `0. Intro` in the `1. RDF` sheet in `SemAI.jar`."
      ],
      "metadata": {
        "id": "vc2iBjkcQQvD"
      }
    },
    {
      "cell_type": "code",
      "source": [
        "rdf_str = \"\"\"BASE   <http://example.org/>\n",
        "PREFIX foaf: <http://xmlns.com/foaf/0.1/>\n",
        "PREFIX xsd: <http://www.w3.org/2001/XMLSchema#>\n",
        "PREFIX schema: <http://schema.org/>\n",
        "PREFIX dcterms: <http://purl.org/dc/terms/>\n",
        "PREFIX wd: <http://www.wikidata.org/entity/>\n",
        " \n",
        "<bob#me>\n",
        "   a foaf:Person ;\n",
        "   foaf:knows <alice#me> ;\n",
        "   schema:birthDate \"1990-07-04\"^^xsd:date ;\n",
        "   foaf:topic_interest wd:Q12418 .\n",
        "   \n",
        "wd:Q12418\n",
        "  dcterms:title \"Mona Lisa\" ;\n",
        "  dcterms:creator <http://dbpedia.org/resource/Leonardo_da_Vinci> .\n",
        "\n",
        "<http://data.europeana.eu/item/04802/243FA8618938F4117025F17A8B813C5F9AA4D619>\n",
        "  dcterms:subject wd:Q12418 .\n",
        "\"\"\"\n",
        "str2 =\"\"\"\n",
        "@prefix rdf:  <http://www.w3.org/1999/02/22-rdf-syntax-ns#> .\n",
        "@prefix foaf: <http://xmlns.com/foaf/0.1/> .\n",
        "@prefix ex:   <http://www.ex.org/> .\n",
        "\n",
        "ex:John rdf:type foaf:Person.\n",
        "ex:John foaf:knows ex:Mary.\n",
        "\"\"\"\n",
        "\n",
        "def visualize_graph_pyvis(g, base=None):\n",
        "\n",
        "    # Create the NetworkX graph\n",
        "    nx_graph = nx.DiGraph()\n",
        "\n",
        "    for s, p, o in g:\n",
        "        nx_graph.add_edge(s, o, label=p)\n",
        "\n",
        "    # Create a PyVis network graph\n",
        "    pyvis_graph = Network(notebook=True, cdn_resources='in_line', bgcolor=\"#EEEEEE\")\n",
        "    ###pyvis_graph.barnes_hut()\n",
        "    ###pyvis_graph.show_buttons(filter_=['physics'])\n",
        "\n",
        "    pyvis_graph.from_nx(nx_graph)\n",
        "\n",
        "    # Abbreviate the node labels\n",
        "    for node in pyvis_graph.nodes:\n",
        "        if node[\"label\"].startswith(\"\\\"\"):\n",
        "            term = Literal(node[\"label\"][1:-1])\n",
        "        else:\n",
        "            term = URIRef(node[\"label\"])\n",
        "        if isinstance(term, Literal):\n",
        "            node[\"label\"] = term.n3(g.namespace_manager)\n",
        "        elif base:\n",
        "            node[\"label\"] = term.n3(g.namespace_manager).replace(base, \"\")\n",
        "            if len(node[\"label\"]) > 25:\n",
        "                node[\"label\"] = node[\"label\"][:12] + \"...\" + node[\"label\"][-12:]\n",
        "\n",
        "    # Abbreviate the edge labels\n",
        "    for edge in pyvis_graph.edges:\n",
        "        edge[\"label\"] = edge[\"label\"].n3(g.namespace_manager)\n",
        "        if len(edge[\"label\"]) > 25:\n",
        "            edge[\"label\"] = edge[\"label\"][:12] + \"...\" + edge[\"label\"][-12:]\n",
        "\n",
        "    # Remove the IDs of blank nodes\n",
        "    for node in pyvis_graph.nodes:\n",
        "        if node[\"label\"].startswith(\"_:\"):\n",
        "            node[\"label\"] = \"\"\n",
        "\n",
        "    # Customize the node appearance\n",
        "    for node in pyvis_graph.nodes:\n",
        "        node[\"shape\"] = \"dot\"\n",
        "        node[\"size\"] = 10\n",
        "        node[\"font\"] = {\"size\": 10}\n",
        "\n",
        "    # Customize the edge appearance\n",
        "    for edge in pyvis_graph.edges:\n",
        "        edge[\"width\"] = 0.5\n",
        "        edge[\"font\"] = {\"size\": 8, \"align\": \"middle\"}\n",
        "        edge[\"arrows\"] = \"to\"\n",
        "\n",
        "    # Define the HTML file name\n",
        "    html_file = 'graph.html'\n",
        "\n",
        "    # Show the graph in the notebook\n",
        "    pyvis_graph.show(html_file)\n",
        "\n",
        "    # Check if the file exists\n",
        "    if os.path.isfile(html_file):\n",
        "        # Read the content of the HTML file\n",
        "        with open(html_file, 'r') as file:\n",
        "            html_content = file.read()\n",
        "        # Display the HTML content in the notebook\n",
        "        display(HTML(html_content))\n",
        "    else:\n",
        "        print(f\"File not found: {html_file}\")\n",
        "\n",
        "\n",
        "g = parse_display_rdf(rdf_str)\n",
        "visualize_graph_pyvis(g)"
      ],
      "metadata": {
        "id": "Y3-jE3kNQAY4"
      },
      "execution_count": null,
      "outputs": []
    },
    {
      "cell_type": "markdown",
      "source": [
        "## Task 2:  Print RDF graph as HTML table (1 pt)\n",
        "\n",
        "Implement a function `rdf2htmltable(g)` that \n",
        "- takes as parameter an rdflib.Graph \n",
        "- generates and displays an HTML table representing that graph with\n",
        "  - one line per RDF statement \n",
        "  - three columns (subject, predicate, object) \n",
        "  - URIs should be shown in abbreviated form and be represented as links (`href=<full URI>`)\n",
        "\n",
        "Test the function with `rdf_str` and with your solution to task `0. Intro` in the `1. RDF` sheet in `SemAI.jar`."
      ],
      "metadata": {
        "id": "yF2WQ0YsQbhH"
      }
    },
    {
      "cell_type": "code",
      "source": [
        "rdf_str = \"\"\"BASE   <http://example.org/>\n",
        "PREFIX foaf: <http://xmlns.com/foaf/0.1/>\n",
        "PREFIX xsd: <http://www.w3.org/2001/XMLSchema#>\n",
        "PREFIX schema: <http://schema.org/>\n",
        "PREFIX dcterms: <http://purl.org/dc/terms/>\n",
        "PREFIX wd: <http://www.wikidata.org/entity/>\n",
        " \n",
        "<bob#me>\n",
        "   a foaf:Person ;\n",
        "   foaf:knows <alice#me> ;\n",
        "   schema:birthDate \"1990-07-04\"^^xsd:date ;\n",
        "   foaf:topic_interest wd:Q12418 .\n",
        "   \n",
        "wd:Q12418\n",
        "  dcterms:title \"Mona Lisa\" ;\n",
        "  dcterms:creator <http://dbpedia.org/resource/Leonardo_da_Vinci> .\n",
        "\n",
        "<http://data.europeana.eu/item/04802/243FA8618938F4117025F17A8B813C5F9AA4D619>\n",
        "  dcterms:subject wd:Q12418 .\n",
        "\"\"\"\n",
        "\n",
        "str2 =\"\"\"\n",
        "@prefix rdf:  <http://www.w3.org/1999/02/22-rdf-syntax-ns#> .\n",
        "@prefix foaf: <http://xmlns.com/foaf/0.1/> .\n",
        "@prefix ex:   <http://www.ex.org/> .\n",
        "\n",
        "ex:John rdf:type foaf:Person.\n",
        "ex:John foaf:knows ex:Mary.\n",
        "\"\"\"\n",
        "\n",
        "def rdf2htmltable(g):\n",
        "    table = \"<table><tr><th>Subject</th><th>Predicate</th><th>Object</th></tr>\"\n",
        "    for s, p, o in g:\n",
        "        subj = f'<a href=\"{s}\">{abbreviate_uri(s)}</a>' if isinstance(s, URIRef) else s\n",
        "        pred = f'<a href=\"{p}\">{abbreviate_uri(p)}</a>' if isinstance(p, URIRef) else p\n",
        "        obj = f'<a href=\"{o}\">{abbreviate_uri(o)}</a>' if isinstance(o, URIRef) else o\n",
        "        table += f\"<tr><td>{subj}</td><td>{pred}</td><td>{obj}</td></tr>\"\n",
        "    table += \"</table>\"\n",
        "    display(HTML(table))\n",
        "\n",
        "def abbreviate_uri(uri):\n",
        "    if uri.startswith(\"http://\"):\n",
        "        uri = uri[7:]\n",
        "    elif uri.startswith(\"https://\"):\n",
        "        uri = uri[8:]\n",
        "    return uri\n",
        "\n",
        "g = parse_display_rdf(str2)\n",
        "rdf2htmltable(g)"
      ],
      "metadata": {
        "id": "Hz7PpFVjTkZG"
      },
      "execution_count": null,
      "outputs": []
    },
    {
      "cell_type": "markdown",
      "source": [
        "## Task 3: A function for parsing and displaying an RDF graph (1 pt)\n",
        "\n",
        "A function `parse_display_rdf(str)` that takes as parameter a string which represents an RDF graph in Turtle notation and \n",
        "- produces an rdflib.Graph from that string\n",
        "- prints the graph in Turte notation\n",
        "- prints the graph in RDF/XML\n",
        "- visualizes it using `visualize_graph` (to be taken from `V01_rdf.ipynb`)\n",
        "- visualizes it using (your improved version of) `visualize_graph_pyvis`\n",
        "- outputs it using `rdf2htmltable` (only if you have implemented this function)\n",
        "\n",
        "Test the function with `rdf_str` and with your solution to task `0. Intro` in the `1. RDF` sheet in `SemAI.jar`."
      ],
      "metadata": {
        "id": "AvL1cSUQQNFg"
      }
    },
    {
      "cell_type": "code",
      "source": [
        "str=\"\"\"\n",
        "@prefix rdf:  <http://www.w3.org/1999/02/22-rdf-syntax-ns#> .\n",
        "@prefix foaf: <http://xmlns.com/foaf/0.1/> .\n",
        "@prefix ex:   <http://www.ex.org/> .\n",
        "\n",
        "ex:John rdf:type foaf:Person.\n",
        "ex:John foaf:knows ex:Mary.\n",
        "\"\"\"\n",
        "def parse_display_rdf(str):\n",
        "  g = Graph()\n",
        "  g.parse(data=str, format='turtle')\n",
        "  print(\"Turtle notation:\")\n",
        "  print(g.serialize(format='turtle'))\n",
        "  print(\"RDF/XML:\")\n",
        "  print(g.serialize(format='xml'))\n",
        "  return g\n",
        "\n",
        "def visualize_graph(g,base=None):\n",
        "\n",
        "  def node_id(graph,term):\n",
        "    if isinstance(term,Literal): return term.n3(graph.namespace_manager)\n",
        "    else: return f\"\\\"{term.n3(graph.namespace_manager)}\\\"\"\n",
        "\n",
        "  def add_node(dg,g,t,base):\n",
        "    if isinstance(t,URIRef):\n",
        "      lbl = f\"\\\"{t.n3(g.namespace_manager)}\\\"\"\n",
        "      if(base): lbl = lbl.replace(base,\"\")\n",
        "      if(len(lbl)>25): lbl = lbl[:12] + \"...\" +  lbl[-12:] \n",
        "      dg.add_node(pydot.Node( node_id(g,t), label=lbl ))\n",
        "    if isinstance(t,Literal):\n",
        "      dg.add_node(pydot.Node( node_id(g,t), label=t.n3(g.namespace_manager), shape=\"box\"))\n",
        "    if isinstance(t,BNode):\n",
        "      dg.add_node(pydot.Node( node_id(g,t), label=\"\"))    \n",
        "\n",
        "  def add_edge(dg,g,s,p,o):\n",
        "    dg.add_edge(pydot.Edge(node_id(g,s), node_id(g,o), label=f\"\\\"{p.n3(g.namespace_manager)}\\\"\"))\n",
        "\n",
        "  dg = pydot.Dot('my_graph', graph_type='digraph',layout='sfdp', splines='curved' )\n",
        "\n",
        "  for subj in g.subjects(None,None): add_node(dg,g,subj,base)\n",
        "  for obj in g.objects(None,None): add_node(dg,g,obj,base)\n",
        "  for (s,p,o) in g: add_edge(dg,g,s,p,o)   \n",
        "\n",
        "  display(Image(dg.create_png()))\n",
        "\n",
        "g = parse_display_rdf(str)\n",
        "visualize_graph(g,base=\"http://example.org/\")\n",
        "visualize_graph_pyvis(g)\n",
        "rdf2htmltable(g)\n"
      ],
      "metadata": {
        "id": "nr-PRsrzTnQP"
      },
      "execution_count": null,
      "outputs": []
    },
    {
      "cell_type": "markdown",
      "source": [
        "# Tasks 4-10 (1 point each)\n",
        "\n",
        "For each of the remaining 7 tasks in the \"1. RDF\" sheet in `SemAI.jar` do the following: \n",
        "- add a text cell in this notebook \n",
        "  - with the description of the task from `SemAI.jar` \n",
        "  - with number and title (e.g., **1. Simple Data Graph**)  from `SemAI.jar` as header \n",
        "- add a code cell where you apply `parse_display_rdf(str)` on your solution"
      ],
      "metadata": {
        "id": "6efAFC8dQexI"
      }
    },
    {
      "cell_type": "markdown",
      "source": [
        "# 0. Intro\n",
        "Create an RDF graph in Turtle notation. Use the RDF and FOAF vocabularies where applicable and the example namesspace (prefix ex:) for the other resources.\n",
        "\n",
        "\n",
        "\n",
        "*  John is a Person.\n",
        "*  John knows Mary.\n",
        "\n",
        "\n",
        "\n",
        "\n"
      ],
      "metadata": {
        "id": "x2WZ7ywmIPl-"
      }
    },
    {
      "cell_type": "code",
      "source": [
        "str = \"\"\"\n",
        "@prefix rdf:  <http://www.w3.org/1999/02/22-rdf-syntax-ns#> .\n",
        "@prefix foaf: <http://xmlns.com/foaf/0.1/> .\n",
        "@prefix ex:   <http://www.ex.org/> .\n",
        "\n",
        "ex:John rdf:type foaf:Person.\n",
        "ex:John foaf:knows ex:Mary.\n",
        "\"\"\"\n",
        "\n",
        "parse_display_rdf(str)\n"
      ],
      "metadata": {
        "id": "vvn1zBqqIJaC"
      },
      "execution_count": null,
      "outputs": []
    },
    {
      "cell_type": "markdown",
      "source": [
        "# 1. Simple Data Graph\n",
        "Create an RDF graph in Turtle notation. Use the FOAF vocabulary to state the following.\n",
        "\n",
        "\n",
        "*   Mary and Jim are persons.\n",
        "*   Mary knows Jim.\n",
        "*   Mary is 27 years old.\n",
        "\n",
        "\n",
        "The URIs for the two persons should be http://www.ex.org/person#Mary and http://www.ex.org/person#Jim. The age of Mary should be represented as an integer."
      ],
      "metadata": {
        "id": "vZOfDcvcJ0gY"
      }
    },
    {
      "cell_type": "code",
      "source": [
        "str=\"\"\"\n",
        "@prefix rdf:  <http://www.w3.org/1999/02/22-rdf-syntax-ns#> .\n",
        "@prefix rdfs: <http://www.w3.org/2000/01/rdf-schema#> .\n",
        "@prefix xsd:  <http://www.w3.org/2001/XMLSchema#> .\n",
        "@prefix foaf: <http://xmlns.com/foaf/0.1/> .\n",
        "@prefix ex:     <http://www.ex.org/person#> .\n",
        "\n",
        "ex:Mary rdf:type foaf:Person;\n",
        "foaf:knows ex:Jim;\n",
        "foaf:age \"27\"^^xsd:integer.\n",
        "\n",
        "ex:Jim rdf:type foaf:Person.\n",
        "\"\"\"\n",
        "\n",
        "parse_display_rdf(str)\n"
      ],
      "metadata": {
        "id": "BboxkgayKA25"
      },
      "execution_count": null,
      "outputs": []
    },
    {
      "cell_type": "markdown",
      "source": [
        "# 2. Simple Schema\n",
        "\n",
        "Create a vocabulary using RDFS in Turtle. Specify\n",
        "\n",
        "*   Classes Company, Employee, and Person\n",
        "*   Property worksFor between Employee and Company\n",
        "*   Property salary of Employee with Integer as data type\n",
        "*   Class Employee is a subclass of Person\n",
        "\n",
        "Use XSD for data types. The URIs of classes and properties are in namespace <http://www.ex.org/vocabulary#>, for example, <http://www.ex.org/vocabulary#Company>"
      ],
      "metadata": {
        "id": "cfaGAyLJKQ4U"
      }
    },
    {
      "cell_type": "code",
      "source": [
        "str=\"\"\"\n",
        "@prefix rdf:  <http://www.w3.org/1999/02/22-rdf-syntax-ns#>.\n",
        "@prefix rdfs: <http://www.w3.org/2000/01/rdf-schema#> .\n",
        "@prefix xsd:  <http://www.w3.org/2001/XMLSchema#>.\n",
        "@prefix ex:     <http://www.ex.org/vocabulary#> .\n",
        "\n",
        "ex:Company a rdfs:Class.\n",
        "ex:Employee a rdfs:Class;\n",
        "rdfs:subClassOf ex:Person.\n",
        "ex:Person a rdfs:Class.\n",
        "\n",
        "ex:worksFor a rdf:Property;\n",
        "rdfs:domain ex:Employee;\n",
        "rdfs:range ex:Company.\n",
        "\n",
        "ex:salary a rdf:Property;\n",
        "rdfs:domain ex:Employee;\n",
        "rdfs:range xsd:integer.\n",
        "\"\"\"\n",
        "\n",
        "parse_display_rdf(str)\n"
      ],
      "metadata": {
        "id": "6_4DiZpmKeIT"
      },
      "execution_count": null,
      "outputs": []
    },
    {
      "cell_type": "markdown",
      "source": [
        "# 3. Reification \n",
        "\n",
        "Create an RDF graph in Turtle notation. Use the RDF vocabulary where applicable and the example namesspace (ex:) for all other resources (ex:Mary, ex:John, ex:says, ex:loves). Hint: the lecture slides contain a similar reification example.\n",
        "\n",
        "*   Mary says that John loves her.\n",
        "\n"
      ],
      "metadata": {
        "id": "jan_64VeKodX"
      }
    },
    {
      "cell_type": "code",
      "source": [
        "str=\"\"\"\n",
        "@prefix rdf:  <http://www.w3.org/1999/02/22-rdf-syntax-ns#> .\n",
        "@prefix ex:   <http://www.ex.org/> .\n",
        "\n",
        "ex:Mary ex:says ex:aStmt.\n",
        "ex:aStmt a rdf:Statement;\n",
        "rdf:predicate ex:loves;\n",
        "rdf:subject ex:John;\n",
        "rdf:object ex:Mary.\n",
        "\"\"\"\n",
        "parse_display_rdf(str)\n"
      ],
      "metadata": {
        "id": "ttA6XuYRK65V"
      },
      "execution_count": null,
      "outputs": []
    },
    {
      "cell_type": "markdown",
      "source": [
        "# 4. Blank Node \n",
        "\n",
        "Create an RDF graph in Turtle notation. Use the RDF and FOAF vocabularies where applicable and the example namesspace (ex:) for the other resources.\n",
        "\n",
        "*   John knows a person, who knows Mary.\n",
        "*   Use a blank node to represent that anonymous person.\n",
        "\n"
      ],
      "metadata": {
        "id": "cTlYj1QkLlSl"
      }
    },
    {
      "cell_type": "code",
      "source": [
        "str=\"\"\"\n",
        "@prefix rdf:  <http://www.w3.org/1999/02/22-rdf-syntax-ns#> .\n",
        "@prefix foaf: <http://xmlns.com/foaf/0.1/> .\n",
        "@prefix ex:   <http://www.ex.org/> .\n",
        "\n",
        "ex:John foaf:knows [\n",
        "  a foaf:Person ;\n",
        "  foaf:knows ex:Mary\n",
        "] .\n",
        "\"\"\"\n",
        "parse_display_rdf(str)"
      ],
      "metadata": {
        "id": "MVuFpAjdLwdu"
      },
      "execution_count": null,
      "outputs": []
    },
    {
      "cell_type": "markdown",
      "source": [
        "# 5. Multiple Classification \n",
        "\n",
        "Create an RDF graph in Turtle notation. Use the RDF vocabulary where applicable and the example namesspace (ex:) for the other resources.\n",
        "\n",
        "*  John is an instance of SoccerPlayer and of Student."
      ],
      "metadata": {
        "id": "5sWWTufML9AI"
      }
    },
    {
      "cell_type": "code",
      "source": [
        "str=\"\"\"\n",
        "@prefix rdf:  <http://www.w3.org/1999/02/22-rdf-syntax-ns#> .\n",
        "@prefix ex:   <http://www.ex.org/> .\n",
        "\n",
        "ex:John a ex:Student, ex:SoccerPlayer.\n",
        "\"\"\"\n",
        "parse_display_rdf(str)"
      ],
      "metadata": {
        "id": "FMPJE3lAMEEA"
      },
      "execution_count": null,
      "outputs": []
    },
    {
      "cell_type": "markdown",
      "source": [
        "# 6. Metamodeling \n",
        "\n",
        "Create an RDF graph in Turtle notation. Use the RDF and RDF Schema vocabularies where applicable and the example namesspace (ex:) for the other resources.\n",
        "\n",
        "\n",
        "*   Dog and Cat are instances of Species and subclasses of Animal.\n",
        "*   Lassie is an instance of Dog.\n",
        "\n",
        "\n",
        "\n"
      ],
      "metadata": {
        "id": "DPL2yHyhMKam"
      }
    },
    {
      "cell_type": "code",
      "source": [
        "str=\"\"\"\n",
        "@prefix rdf:  <http://www.w3.org/1999/02/22-rdf-syntax-ns#> .\n",
        "@prefix rdfs: <http://www.w3.org/2000/01/rdf-schema#> .\n",
        "@prefix ex:   <http://www.ex.org/> .\n",
        "\n",
        "ex:Animal a rdfs:Class.\n",
        "\n",
        "ex:Dog a ex:Species;\n",
        "rdfs:subClassOf ex:Animal.\n",
        "\n",
        "ex:Cat a ex:Species;\n",
        "rdfs:subClassOf ex:Animal.\n",
        "\n",
        "ex:Lassie a ex:Dog.\n",
        "\"\"\"\n",
        "parse_display_rdf(str)"
      ],
      "metadata": {
        "id": "ifKkQKXYMWOg"
      },
      "execution_count": null,
      "outputs": []
    },
    {
      "cell_type": "markdown",
      "source": [
        "# 7. Properties\n",
        "Create an RDF graph in Turtle notation. Use the RDF and RDF Schema vocabularies where applicable and the example namesspace (ex:) for the other resources, e.g., ex:childOf, ex:descendantOf.\n",
        "\n",
        "*  Everyone who is a child of someone, is also a descendant of that someone."
      ],
      "metadata": {
        "id": "3Bmf9W4aMd18"
      }
    },
    {
      "cell_type": "code",
      "source": [
        "str=\"\"\"\n",
        "@prefix rdf:  <http://www.w3.org/1999/02/22-rdf-syntax-ns#> .\n",
        "@prefix rdfs: <http://www.w3.org/2000/01/rdf-schema#> .\n",
        "@prefix ex:   <http://www.ex.org/> .\n",
        "\n",
        "\n",
        "ex:childOf rdfs:subPropertyOf ex:descendantOf. \n",
        "\n",
        "#ex:everyone rdfs:subPropertyOf ex:childOf.\n",
        "#ex:childOf rdfs:subPropertyOf ex:descendantOf.\n",
        "\"\"\"\n",
        "parse_display_rdf(str)"
      ],
      "metadata": {
        "id": "8-3uqTEpMjjT"
      },
      "execution_count": null,
      "outputs": []
    }
  ],
  "metadata": {
    "kernelspec": {
      "display_name": "Python 3",
      "language": "python",
      "name": "python3"
    },
    "language_info": {
      "codemirror_mode": {
        "name": "ipython",
        "version": 3
      },
      "file_extension": ".py",
      "mimetype": "text/x-python",
      "name": "python",
      "nbconvert_exporter": "python",
      "pygments_lexer": "ipython3",
      "version": "3.6.7"
    },
    "colab": {
      "provenance": []
    }
  },
  "nbformat": 4,
  "nbformat_minor": 0
}